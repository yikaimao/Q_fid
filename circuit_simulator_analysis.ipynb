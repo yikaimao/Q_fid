{
 "cells": [
  {
   "cell_type": "code",
   "execution_count": null,
   "id": "8e4ab282-5152-4c9c-aa8f-d9b051c1a49b",
   "metadata": {},
   "outputs": [],
   "source": [
    "# 031323\n",
    "# YIKAI MAO\n",
    "\n",
    "# circuit simulator with fidelity analysis"
   ]
  },
  {
   "cell_type": "code",
   "execution_count": null,
   "id": "f4216acb-a7ce-4f54-a3c2-287792f1b0e8",
   "metadata": {},
   "outputs": [],
   "source": [
    "%env PYTHONHASHSEED=0\n",
    "\n",
    "# standard Qiskit libraries\n",
    "from qiskit import QuantumCircuit, transpile, Aer, IBMQ\n",
    "from qiskit import QuantumRegister, ClassicalRegister\n",
    "from qiskit.tools.jupyter import *\n",
    "from qiskit.tools.monitor import job_monitor\n",
    "from qiskit.visualization import *\n",
    "#from ibm_quantum_widgets import * # does not work when not in ibm cloud platform\n",
    "from qiskit.providers.aer import QasmSimulator, AerSimulator\n",
    "from qiskit.transpiler.passes import RemoveBarriers\n",
    "\n",
    "# other libraries\n",
    "from tqdm import tqdm\n",
    "from sklearn.metrics import r2_score\n",
    "import pickle\n",
    "import mapomatic as mm\n",
    "import numpy as np\n",
    "import matplotlib.pyplot as plt\n",
    "\n",
    "# loading your IBM Quantum account(s)\n",
    "from qiskit_ibm_provider import IBMProvider\n",
    "provider = IBMProvider()\n",
    "provider.backends()"
   ]
  },
  {
   "cell_type": "code",
   "execution_count": null,
   "id": "7d166433-c867-4e9a-a811-c9a00809b40b",
   "metadata": {
    "tags": []
   },
   "outputs": [],
   "source": [
    "def run_ideal_simulation(circuit, shots, seed):\n",
    "    # assume perfect device with no noise\n",
    "\n",
    "    simulator = Aer.get_backend('aer_simulator')\n",
    "    temp_qc = transpile(circuit, simulator, optimization_level=0)\n",
    "    job_temp = simulator.run(temp_qc, shots=shots, seed_simulator=seed)\n",
    "    temp_results = job_temp.result()\n",
    "\n",
    "    # expected output is plotted\n",
    "    #plot = plot_histogram(temp_results.get_counts())\n",
    "    #plot.patch.set_facecolor('xkcd:white')\n",
    "    #display(plot)\n",
    "    #print('raw outputs:')\n",
    "    #print(temp_results.get_counts())\n",
    "\n",
    "    # build simulation result dict\n",
    "    num_clbits = circuit.num_clbits\n",
    "    ideal_result_dict = {}\n",
    "\n",
    "    for i in range(pow(2, num_clbits)):\n",
    "        bin_str = format(i, str('0>' + str(num_clbits) + 'b'))\n",
    "        if bin_str not in temp_results.get_counts():\n",
    "            #print(bin_str + ': probability = 0')\n",
    "            ideal_result_dict[bin_str] = 0\n",
    "        else:\n",
    "            ideal_result_dict[bin_str] = temp_results.get_counts()[bin_str]\n",
    "\n",
    "    #print('simulation result dictionary:')\n",
    "    #if num_clbits <= 6:\n",
    "    #    print(ideal_result_dict)\n",
    "    #else:\n",
    "    #    print('result too long, skip')\n",
    "        \n",
    "    return ideal_result_dict"
   ]
  },
  {
   "cell_type": "code",
   "execution_count": null,
   "id": "2affc0f8-5b7b-4e35-a09e-02638fac4bc8",
   "metadata": {
    "tags": []
   },
   "outputs": [],
   "source": [
    "def default_cost_return_fid(circ, layouts, backend):\n",
    "    \"\"\"The default mapomatic cost function that returns the total\n",
    "    error rate over all the layouts for the gates in the given circuit\n",
    "    Parameters:\n",
    "        circ (QuantumCircuit): circuit of interest\n",
    "        layouts (list of lists): List of specified layouts\n",
    "        backend (IBMQBackend): An IBM Quantum backend instance\n",
    "    Returns:\n",
    "        list: Tuples of layout and error\n",
    "    \"\"\"\n",
    "    out = []\n",
    "    # Make a single layout nested\n",
    "    props = backend.properties()\n",
    "    for layout in layouts:\n",
    "        error = 0\n",
    "        fid = 1\n",
    "        for item in circ._data:\n",
    "            if item[0].name == 'cx':\n",
    "                q0 = circ.find_bit(item[1][0]).index\n",
    "                q1 = circ.find_bit(item[1][1]).index\n",
    "                fid *= (1-props.gate_error('cx', [layout[q0],\n",
    "                                                  layout[q1]]))\n",
    "\n",
    "            elif item[0].name in ['sx', 'x']:\n",
    "                q0 = circ.find_bit(item[1][0]).index\n",
    "                fid *= 1-props.gate_error(item[0].name, layout[q0])\n",
    "\n",
    "            elif item[0].name == 'measure':\n",
    "                q0 = circ.find_bit(item[1][0]).index\n",
    "                fid *= 1-props.readout_error(layout[q0])\n",
    "        error = 1-fid\n",
    "        #out.append((layout, error))\n",
    "        out.append((layout, fid))\n",
    "    return out"
   ]
  },
  {
   "cell_type": "code",
   "execution_count": null,
   "id": "b7d26e86-14e3-4570-b6e4-1d3e73cb1f30",
   "metadata": {},
   "outputs": [],
   "source": [
    "# define circuit here, either a Qiskit circuit object or OpenQASM string\n",
    "qasm_str = '''\n",
    "\n",
    "\n",
    "\n",
    "'''\n",
    "\n",
    "#circuit = QuantumCircuit.from_qasm_str(qasm_str)"
   ]
  },
  {
   "cell_type": "code",
   "execution_count": null,
   "id": "1e87ef28-1aa4-4abe-ac00-4e67da61a0b2",
   "metadata": {},
   "outputs": [],
   "source": [
    "title = 'adder_n4'"
   ]
  },
  {
   "cell_type": "code",
   "execution_count": null,
   "id": "892db64a-88cc-4e01-a829-701af1305d5d",
   "metadata": {},
   "outputs": [],
   "source": [
    "with open('circuits_small/'+title+'.qasm', 'r') as f:\n",
    "    qasm_str = f.read()\n",
    "circuit = QuantumCircuit.from_qasm_str(qasm_str)"
   ]
  },
  {
   "cell_type": "code",
   "execution_count": null,
   "id": "29df9364-920d-4672-bb2a-ed110c0aa7ae",
   "metadata": {
    "tags": []
   },
   "outputs": [],
   "source": [
    "circuit.draw(scale = 0.5)"
   ]
  },
  {
   "cell_type": "code",
   "execution_count": null,
   "id": "f4b2c4e3-1867-45d3-babc-338b870140b7",
   "metadata": {},
   "outputs": [],
   "source": [
    "from datetime import datetime\n",
    "\n",
    "t = datetime(year=2023, month=1, day=1, hour=12)\n",
    "\n",
    "backend = provider.get_backend('ibm_nairobi')\n",
    "backend.properties(datetime=t).last_update_date"
   ]
  },
  {
   "cell_type": "code",
   "execution_count": null,
   "id": "fd9f0c75-2c11-4457-b12c-1f310a86ce7e",
   "metadata": {},
   "outputs": [],
   "source": [
    "from qiskit_aer.noise import NoiseModel\n",
    "\n",
    "noise_model = NoiseModel.from_backend_properties(backend.properties(datetime=t))\n",
    "\n",
    "backend_name = 'ibm_nairobi'\n",
    "\n",
    "# generate a simulator that mimics the real quantum system with the latest calibration results\n",
    "#backend_sim = AerSimulator.from_backend(backend)\n",
    "\n",
    "# generate a simulator that mimics the real quantum system with previous calibrations\n",
    "backend_sim = AerSimulator(noise_model=noise_model)\n",
    "\n",
    "# use a fake device, from: https://qiskit.org/documentation/apidoc/providers_fake_provider.html\n",
    "# \n",
    "# 27 qubit device = FakeToronto(), FakeSydney(), FakeMumbai(), FakeMontreal(), FakeKolkata(), FakeHanoi(), FakeCairo(), *FakeCambridge(), *FakeParis()\n",
    "# 20 qubit device = FakeTokyo(), *FakeAlmaden(), *FakeBoeblingen(), *FakeJohannesburg(), *FakePoughkeepsie(), *FakeSingapore()\n",
    "# 16 qubit device = FakeRueschlikon(), FakeGuadalupe()\n",
    "# 14 qubit device = FakeMelbourne()\n",
    "# 7 qubit device  = FakeNairobi(), FakeLagos(), FakeJakarta(), FakeCasablanca()\n",
    "# 5 qubit device  = FakeYorktown(), FakeVigo(), FakeValencia(), FakeTenerife(), FakeRome(), FakeQuito(), FakeOurense(), FakeManila(), FakeLondon(),\n",
    "#                   FakeLima(), FakeEssex(), FakeBurlington(), FakeBogota(), FakeBelem(), FakeAthens()\n",
    "# ? qubit device  = *FakeBrooklyn(), *FakeManhattan(), *FakeRochester(), *FakeSantiago()\n",
    "#               * = ibm didn't provide enough info for these devices\n",
    "from qiskit.providers.fake_provider import *\n",
    "\n",
    "#backend = FakeMontreal()\n",
    "#backend_sim = AerSimulator.from_backend(backend)\n",
    "#backend_name = 'fake_montreal'"
   ]
  },
  {
   "cell_type": "code",
   "execution_count": null,
   "id": "d4c1da2d-5ad8-4fdd-ba73-7d812347460c",
   "metadata": {
    "tags": []
   },
   "outputs": [],
   "source": [
    "# do a test transpilition, just to see the number of CXs\n",
    "# run this cell multiple times to see different transpile results\n",
    "trans_qc = transpile(circuit, backend, optimization_level=0)\n",
    "print('# of CXs =', trans_qc.count_ops()['cx'])\n",
    "display(trans_qc.draw(scale = 0.5))\n",
    "\n",
    "# show qubit layout on the device\n",
    "print('physical qubit layout:')\n",
    "display(plot_gate_map(backend))\n",
    "print('virtual qubit layout:')\n",
    "display(plot_circuit_layout(trans_qc, backend, view='virtual'))"
   ]
  },
  {
   "cell_type": "code",
   "execution_count": null,
   "id": "1173296e-a2e9-452c-996e-28a1f818c0f0",
   "metadata": {},
   "outputs": [],
   "source": [
    "trans_qc._layout"
   ]
  },
  {
   "cell_type": "code",
   "execution_count": null,
   "id": "5831b1d7-52c7-4131-9fc8-e2962f6337f7",
   "metadata": {},
   "outputs": [],
   "source": [
    "layouts = mm.matching_layouts(mm.deflate_circuit(trans_qc), backend)\n",
    "mm_list = default_cost_return_fid(mm.deflate_circuit(trans_qc), layouts, backend)\n",
    "sorted_list = sorted(mm_list, key=lambda mm: mm[1])\n",
    "layout = sorted_list[-1][0]\n",
    "sorted_list"
   ]
  },
  {
   "cell_type": "code",
   "execution_count": null,
   "id": "d97995cc-8b23-4a25-b664-d15375e03f81",
   "metadata": {},
   "outputs": [],
   "source": [
    "layouts = mm.matching_layouts(mm.deflate_circuit(trans_qc), backend)\n",
    "mm_list = default_cost_return_fid(mm.deflate_circuit(trans_qc), layouts, backend)\n",
    "sorted_list = sorted(mm_list, key=lambda mm: mm[1])\n",
    "layout = sorted_list[-1][0]\n",
    "sorted_list"
   ]
  },
  {
   "cell_type": "code",
   "execution_count": null,
   "id": "e4eddaea-9e8e-43ec-91b7-2e61114b4e01",
   "metadata": {},
   "outputs": [],
   "source": [
    "mm_fid = default_cost_return_fid(mm.deflate_circuit(trans_qc), [layout], backend)\n",
    "mm_fid = mm_fid[0][1]\n",
    "print(mm_fid)"
   ]
  },
  {
   "cell_type": "code",
   "execution_count": null,
   "id": "3c378b50-91d6-4a6d-9e11-f25c35c30eca",
   "metadata": {},
   "outputs": [],
   "source": [
    "# some parameters for simulation\n",
    "\n",
    "shots = 1024\n",
    "seed = None"
   ]
  },
  {
   "cell_type": "code",
   "execution_count": null,
   "id": "2174e6e4-2bd5-4fec-89ea-e217c7a9c9f0",
   "metadata": {
    "tags": []
   },
   "outputs": [],
   "source": [
    "# simulate this circuit\n",
    "# assume perfect device with no noise\n",
    "\n",
    "simulator = Aer.get_backend('aer_simulator')\n",
    "job_temp = simulator.run(trans_qc, shots=shots, seed_simulator=seed)\n",
    "temp_results = job_temp.result()\n",
    "\n",
    "# expected output is plotted\n",
    "plot = plot_histogram(temp_results.get_counts())\n",
    "plot.patch.set_facecolor('xkcd:white')\n",
    "display(plot)\n",
    "print('raw outputs:')\n",
    "print(temp_results.get_counts())\n",
    "\n",
    "# build simulation result dict\n",
    "num_clbits = trans_qc.num_clbits\n",
    "sim_result_dict = {}\n",
    "\n",
    "for i in range(pow(2, num_clbits)):\n",
    "    bin_str = format(i, str('0>' + str(num_clbits) + 'b'))\n",
    "    if bin_str not in temp_results.get_counts():\n",
    "        #print(bin_str + ': probability = 0')\n",
    "        sim_result_dict[bin_str] = 0\n",
    "    else:\n",
    "        sim_result_dict[bin_str] = temp_results.get_counts()[bin_str]\n",
    "\n",
    "print('simulation result dictionary:')\n",
    "if num_clbits <= 6:\n",
    "    print(sim_result_dict)\n",
    "else:\n",
    "    print('result too long, skip')"
   ]
  },
  {
   "cell_type": "code",
   "execution_count": null,
   "id": "26f8052d-b81f-4136-a639-b8904f0653d5",
   "metadata": {
    "tags": []
   },
   "outputs": [],
   "source": [
    "# run a noisy simulation\n",
    "# calibration data maybe out of date\n",
    "\n",
    "trans_qc = transpile(circuit, backend, initial_layout=layout, optimization_level=0)\n",
    "\n",
    "job_temp = backend_sim.run(trans_qc, shots=shots, seed_simulator=seed)\n",
    "temp_results = job_temp.result()\n",
    "plot = plot_histogram(temp_results.get_counts())\n",
    "plot.patch.set_facecolor('xkcd:white')\n",
    "plot"
   ]
  },
  {
   "cell_type": "code",
   "execution_count": null,
   "id": "85646336-3c00-4f9d-823d-19ff94dc1054",
   "metadata": {},
   "outputs": [],
   "source": [
    "#with open('ibm_nairobi_on_111522_0230PM.pickle', 'wb') as f:\n",
    "#    pickle.dump(backend, f, pickle.HIGHEST_PROTOCOL)"
   ]
  },
  {
   "cell_type": "code",
   "execution_count": null,
   "id": "f89ee860-df8a-471b-939d-885e8e0bdf6a",
   "metadata": {},
   "outputs": [],
   "source": [
    "with open('circuit_list_for_generator_single.pickle', 'wb') as f:\n",
    "    pickle.dump(trans_qc, f, pickle.HIGHEST_PROTOCOL)"
   ]
  },
  {
   "cell_type": "code",
   "execution_count": null,
   "id": "8c6b5480-c9ce-4792-ab2f-e47783b6694f",
   "metadata": {
    "tags": []
   },
   "outputs": [],
   "source": [
    "sim_result_dict = []\n",
    "job_list = []\n",
    "r2_list = []\n",
    "num_clbits = trans_qc.num_clbits\n",
    "\n",
    "num_tests = 50\n",
    "\n",
    "for i in tqdm(list(range(num_tests))):\n",
    "    sim_result_dict.append(run_ideal_simulation(trans_qc, shots, seed))\n",
    "    job_list.append(backend_sim.run(trans_qc, shots=shots, seed_simulator=seed))\n",
    "    \n",
    "    temp_results = job_list[i].result()\n",
    "    temp_result_dict = {}\n",
    "        \n",
    "    # build full result dict\n",
    "    for j in range(pow(2, num_clbits)):\n",
    "        bin_str = format(j, str('0>' + str(num_clbits) + 'b'))\n",
    "        if bin_str not in temp_results.get_counts():\n",
    "            #print(bin_str + ': probability = 0')\n",
    "            temp_result_dict[bin_str] = 0\n",
    "        else:\n",
    "            temp_result_dict[bin_str] = temp_results.get_counts()[bin_str]\n",
    "    \n",
    "    r2_list.append(r2_score(list(sim_result_dict[i].values()), list(temp_result_dict.values())))\n",
    "    \n",
    "print(r2_list)"
   ]
  },
  {
   "cell_type": "code",
   "execution_count": null,
   "id": "8b65bb69-d7e7-4641-8d83-7abb22de6f62",
   "metadata": {},
   "outputs": [],
   "source": [
    "title = title\n",
    "q_fid = 0.\n",
    "\n",
    "mm_fid = mm_fid\n",
    "r2_list = r2_list"
   ]
  },
  {
   "cell_type": "code",
   "execution_count": null,
   "id": "733044e8-2dad-4bc4-8903-b0b711ce150e",
   "metadata": {},
   "outputs": [],
   "source": [
    "fig, ax = plt.subplots(figsize=(3,3))\n",
    "ax.grid(color=\"dimgray\", linestyle='dotted', linewidth=0.5)\n",
    "#ax.set(xlabel='job index', ylabel='circuit fidelity', title='noisy simulation')\n",
    "ax.set(title=title)\n",
    "ax.set(ylim=(0, 1), yticks=[0, 0.5, 1], xticks=[0, 25, 50])\n",
    "ax.xaxis.set_tick_params(labelsize='small')\n",
    "ax.yaxis.set_tick_params(labelsize='small')\n",
    "\n",
    "x = range(len(r2_list))\n",
    "avg = np.mean(r2_list)\n",
    "ma = np.max(r2_list)\n",
    "mi = np.min(r2_list)\n",
    "\n",
    "ax.plot(x, r2_list, color='dimgray', linewidth=3, label='simulated fidelity')\n",
    "#ax.axhline(avg, color='red', linewidth=1, label='mean fidelity')\n",
    "#ax.text(0, avg, \"{:.2f}\".format(avg), color=\"red\", ha=\"right\", va=\"top\", fontsize='xx-large')\n",
    "#ax.annotate(\"mean: {:.2f}\".format(avg), xy=(0,avg-0.15), color='red', fontsize='x-large')\n",
    "ax.axhline(q_fid, color='purple', linewidth=2, label='q-fid estimation')\n",
    "ax.annotate(\"q-fid: {:.2f}\".format(q_fid), xy=(50,q_fid+0.1), color='purple', fontsize='x-large', ha=\"right\", va=\"top\")\n",
    "ax.text(1.25, 0.1, # 0.7 or 0.1\n",
    "        \"max:   {:.2f}\".format(ma)+'\\n'+\"mean: {:.2f}\".format(avg)+'\\n'+\"min:    {:.2f}\".format(mi),\n",
    "        fontsize='medium',\n",
    "        color=\"dimgray\",\n",
    "        bbox=dict(facecolor='none', edgecolor='dimgray', boxstyle='round,pad=0.3'))\n",
    "#ax.legend(loc=0,fontsize='large')\n",
    "\n",
    "fig.savefig(title+'_'+backend_name+'.png')\n",
    "\n",
    "ax.axhline(mm_fid, color='dimgray', linewidth=1, label='mm estimation')\n",
    "ax.annotate(\"mm: {:.2f}\".format(mm_fid), xy=(50,mm_fid-0.02), color='dimgray', fontsize='medium', ha=\"right\", va=\"top\")\n",
    "\n",
    "fig.savefig(title+'_'+backend_name+'_with_mm.png')"
   ]
  },
  {
   "cell_type": "code",
   "execution_count": null,
   "id": "d12cb96c-3872-41f2-bc7d-1204bd9e994d",
   "metadata": {},
   "outputs": [],
   "source": [
    "from sklearn.metrics import mean_squared_error\n",
    "testq = [q_fid]*50\n",
    "testmm = [mm_fid]*50\n",
    "print('MSE q_fid:', mean_squared_error(r2_list, testq))\n",
    "print('MSE mm_fid:', mean_squared_error(r2_list, testmm))"
   ]
  },
  {
   "cell_type": "code",
   "execution_count": null,
   "id": "1769754c-5b98-4573-975b-558bb84daa75",
   "metadata": {},
   "outputs": [],
   "source": []
  }
 ],
 "metadata": {
  "kernelspec": {
   "display_name": "Python 3 (ipykernel)",
   "language": "python",
   "name": "python3"
  },
  "language_info": {
   "codemirror_mode": {
    "name": "ipython",
    "version": 3
   },
   "file_extension": ".py",
   "mimetype": "text/x-python",
   "name": "python",
   "nbconvert_exporter": "python",
   "pygments_lexer": "ipython3",
   "version": "3.10.6"
  },
  "widgets": {
   "application/vnd.jupyter.widget-state+json": {
    "state": {
     "043d1f9e3473404bafe4cf560df2927d": {
      "model_module": "@jupyter-widgets/base",
      "model_module_version": "1.2.0",
      "model_name": "LayoutModel",
      "state": {
       "margin": "0px 0px 0px 37px",
       "width": "600px"
      }
     },
     "089221b1fe4f4ec8912dc9eb6e4f4808": {
      "model_module": "@jupyter-widgets/base",
      "model_module_version": "1.2.0",
      "model_name": "LayoutModel",
      "state": {
       "margin": "0px 0px 0px 37px",
       "width": "600px"
      }
     },
     "09c2cbd7fe654591a0e79cdc10caf780": {
      "model_module": "@jupyter-widgets/controls",
      "model_module_version": "1.5.0",
      "model_name": "DescriptionStyleModel",
      "state": {
       "description_width": ""
      }
     },
     "0ffcfb500b2e451ba9d534656d6802a2": {
      "model_module": "@jupyter-widgets/controls",
      "model_module_version": "1.5.0",
      "model_name": "DescriptionStyleModel",
      "state": {
       "description_width": ""
      }
     },
     "17a698736c284f19a3fd614dcadc836a": {
      "model_module": "@jupyter-widgets/base",
      "model_module_version": "1.2.0",
      "model_name": "LayoutModel",
      "state": {
       "width": "190px"
      }
     },
     "1a116a1de3044b01a9b102da920b26b3": {
      "model_module": "@jupyter-widgets/controls",
      "model_module_version": "1.5.0",
      "model_name": "DescriptionStyleModel",
      "state": {
       "description_width": ""
      }
     },
     "1c125d8ed3524fdca6e8cfdbd8506df6": {
      "model_module": "@jupyter-widgets/controls",
      "model_module_version": "1.5.0",
      "model_name": "ButtonStyleModel",
      "state": {}
     },
     "1e4223bde69b406fb7149e0d9a476a44": {
      "model_module": "@jupyter-widgets/controls",
      "model_module_version": "1.5.0",
      "model_name": "HTMLModel",
      "state": {
       "layout": "IPY_MODEL_17a698736c284f19a3fd614dcadc836a",
       "style": "IPY_MODEL_c47014a0f78f40fe8d45ac6c32ef5a2e",
       "value": "<h5>Job ID</h5>"
      }
     },
     "2be308c6b0274ab992306be21b6581cf": {
      "model_module": "@jupyter-widgets/controls",
      "model_module_version": "1.5.0",
      "model_name": "HTMLModel",
      "state": {
       "layout": "IPY_MODEL_c1afeac1a5b4453aa1f755f741200e5d",
       "style": "IPY_MODEL_64ac2c02e4504a7e81a2feac49cde5db",
       "value": "<h5>Queue</h5>"
      }
     },
     "34bdef9374c44680bee15c9432923ff9": {
      "model_module": "@jupyter-widgets/base",
      "model_module_version": "1.2.0",
      "model_name": "LayoutModel",
      "state": {
       "width": "190px"
      }
     },
     "36f696f20e0b4186868e9822ff42d5c3": {
      "model_module": "@jupyter-widgets/base",
      "model_module_version": "1.2.0",
      "model_name": "LayoutModel",
      "state": {}
     },
     "4a00c41831284ebf932d940a272682aa": {
      "model_module": "@jupyter-widgets/controls",
      "model_module_version": "1.5.0",
      "model_name": "HTMLModel",
      "state": {
       "layout": "IPY_MODEL_f25ee7e86286427cb8e37c77e15eecd7",
       "style": "IPY_MODEL_fd0c68e02743486f8f65f63c776e7ae2",
       "value": "<h5>Queue</h5>"
      }
     },
     "4ca6cc6b62844f8d97c8a8eefbc8a222": {
      "model_module": "@jupyter-widgets/controls",
      "model_module_version": "1.5.0",
      "model_name": "ButtonStyleModel",
      "state": {}
     },
     "5538324185564c3089d73e6d6c613128": {
      "model_module": "@jupyter-widgets/controls",
      "model_module_version": "1.5.0",
      "model_name": "HBoxModel",
      "state": {
       "children": [
        "IPY_MODEL_1e4223bde69b406fb7149e0d9a476a44",
        "IPY_MODEL_dbe0b351237342f68c0b6d9b84376c07",
        "IPY_MODEL_67d11f8d67cd448fa0f5f0f0eff79e7a",
        "IPY_MODEL_4a00c41831284ebf932d940a272682aa",
        "IPY_MODEL_5af8e4ae41d84b37946d30df86303dda"
       ],
       "layout": "IPY_MODEL_089221b1fe4f4ec8912dc9eb6e4f4808"
      }
     },
     "56147d85daa441d493bd219a41f48b23": {
      "model_module": "@jupyter-widgets/base",
      "model_module_version": "1.2.0",
      "model_name": "LayoutModel",
      "state": {
       "margin": "0px 0px 10px 0px"
      }
     },
     "5af8e4ae41d84b37946d30df86303dda": {
      "model_module": "@jupyter-widgets/controls",
      "model_module_version": "1.5.0",
      "model_name": "HTMLModel",
      "state": {
       "layout": "IPY_MODEL_5e7e983682ab40acb888cd2d6db6ef7c",
       "style": "IPY_MODEL_d9453de7cc294622992c97deb1e9b275",
       "value": "<h5>Message</h5>"
      }
     },
     "5c141044ad404bd8bcdf62175d9db9f5": {
      "model_module": "@jupyter-widgets/base",
      "model_module_version": "1.2.0",
      "model_name": "LayoutModel",
      "state": {
       "grid_area": "right",
       "padding": "0px 0px 0px 0px",
       "width": "70px"
      }
     },
     "5e7e983682ab40acb888cd2d6db6ef7c": {
      "model_module": "@jupyter-widgets/base",
      "model_module_version": "1.2.0",
      "model_name": "LayoutModel",
      "state": {}
     },
     "60e6df861b9a40e1b3e8c21e7209dc37": {
      "model_module": "@jupyter-widgets/controls",
      "model_module_version": "1.5.0",
      "model_name": "HTMLModel",
      "state": {
       "layout": "IPY_MODEL_e2d2a51080b746b384168869f11eaaa3",
       "style": "IPY_MODEL_e9e21dc82db6468289ae8f563b7cee50",
       "value": "<h5>Status</h5>"
      }
     },
     "64ac2c02e4504a7e81a2feac49cde5db": {
      "model_module": "@jupyter-widgets/controls",
      "model_module_version": "1.5.0",
      "model_name": "DescriptionStyleModel",
      "state": {
       "description_width": ""
      }
     },
     "67d11f8d67cd448fa0f5f0f0eff79e7a": {
      "model_module": "@jupyter-widgets/controls",
      "model_module_version": "1.5.0",
      "model_name": "HTMLModel",
      "state": {
       "layout": "IPY_MODEL_aae8a8a9ce814ca6b4cd193a5337488b",
       "style": "IPY_MODEL_09c2cbd7fe654591a0e79cdc10caf780",
       "value": "<h5>Status</h5>"
      }
     },
     "75e01dd2c3dc47e2a1317740bb40879e": {
      "model_module": "@jupyter-widgets/controls",
      "model_module_version": "1.5.0",
      "model_name": "GridBoxModel",
      "state": {
       "children": [
        "IPY_MODEL_d8ca58ee526146ed8556c8a6c0d643ca"
       ],
       "layout": "IPY_MODEL_ee06e4490f504e2585998c261eef9c34"
      }
     },
     "78e2826f89e342818be94cb01bdfab88": {
      "model_module": "@jupyter-widgets/controls",
      "model_module_version": "1.5.0",
      "model_name": "DescriptionStyleModel",
      "state": {
       "description_width": ""
      }
     },
     "83780798cbd74fa7a1f3f424b84203b5": {
      "model_module": "@jupyter-widgets/controls",
      "model_module_version": "1.5.0",
      "model_name": "HTMLModel",
      "state": {
       "layout": "IPY_MODEL_34bdef9374c44680bee15c9432923ff9",
       "style": "IPY_MODEL_0ffcfb500b2e451ba9d534656d6802a2",
       "value": "<h5>Job ID</h5>"
      }
     },
     "908664d7084143d7ad2cb437993479cd": {
      "model_module": "@jupyter-widgets/controls",
      "model_module_version": "1.5.0",
      "model_name": "DescriptionStyleModel",
      "state": {
       "description_width": ""
      }
     },
     "9a5d25a2086b4e4493893c12869006e7": {
      "model_module": "@jupyter-widgets/base",
      "model_module_version": "1.2.0",
      "model_name": "LayoutModel",
      "state": {
       "grid_area": "right",
       "padding": "0px 0px 0px 0px",
       "width": "70px"
      }
     },
     "aae8a8a9ce814ca6b4cd193a5337488b": {
      "model_module": "@jupyter-widgets/base",
      "model_module_version": "1.2.0",
      "model_name": "LayoutModel",
      "state": {
       "width": "95px"
      }
     },
     "b25e231256c14883b2b6b86061c8009f": {
      "model_module": "@jupyter-widgets/base",
      "model_module_version": "1.2.0",
      "model_name": "LayoutModel",
      "state": {
       "width": "145px"
      }
     },
     "c1afeac1a5b4453aa1f755f741200e5d": {
      "model_module": "@jupyter-widgets/base",
      "model_module_version": "1.2.0",
      "model_name": "LayoutModel",
      "state": {
       "width": "70px"
      }
     },
     "c20abf2ec0264bcd9add8d54a6a40601": {
      "model_module": "@jupyter-widgets/base",
      "model_module_version": "1.2.0",
      "model_name": "LayoutModel",
      "state": {
       "margin": "0px 0px 10px 0px"
      }
     },
     "c47014a0f78f40fe8d45ac6c32ef5a2e": {
      "model_module": "@jupyter-widgets/controls",
      "model_module_version": "1.5.0",
      "model_name": "DescriptionStyleModel",
      "state": {
       "description_width": ""
      }
     },
     "c54d8b4ca1f345369c2a18db771a7f29": {
      "model_module": "@jupyter-widgets/controls",
      "model_module_version": "1.5.0",
      "model_name": "HBoxModel",
      "state": {
       "children": [
        "IPY_MODEL_83780798cbd74fa7a1f3f424b84203b5",
        "IPY_MODEL_fd09540ca39248f18bcef526d199a12f",
        "IPY_MODEL_60e6df861b9a40e1b3e8c21e7209dc37",
        "IPY_MODEL_2be308c6b0274ab992306be21b6581cf",
        "IPY_MODEL_f32a615d760f4fe28b6c680ccc03a51e"
       ],
       "layout": "IPY_MODEL_043d1f9e3473404bafe4cf560df2927d"
      }
     },
     "d16f7aa60f3b453c83d42399b3019f16": {
      "model_module": "@jupyter-widgets/base",
      "model_module_version": "1.2.0",
      "model_name": "LayoutModel",
      "state": {
       "grid_template_areas": "\n                                       \". . . . right \"\n                                        ",
       "grid_template_columns": "20% 20% 20% 20% 20%",
       "width": "100%"
      }
     },
     "d8ca58ee526146ed8556c8a6c0d643ca": {
      "model_module": "@jupyter-widgets/controls",
      "model_module_version": "1.5.0",
      "model_name": "ButtonModel",
      "state": {
       "button_style": "primary",
       "description": "Clear",
       "layout": "IPY_MODEL_5c141044ad404bd8bcdf62175d9db9f5",
       "style": "IPY_MODEL_4ca6cc6b62844f8d97c8a8eefbc8a222"
      }
     },
     "d9453de7cc294622992c97deb1e9b275": {
      "model_module": "@jupyter-widgets/controls",
      "model_module_version": "1.5.0",
      "model_name": "DescriptionStyleModel",
      "state": {
       "description_width": ""
      }
     },
     "d9baf77a77e44dfd9bea9068955b919a": {
      "model_module": "@jupyter-widgets/controls",
      "model_module_version": "1.5.0",
      "model_name": "HTMLModel",
      "state": {
       "layout": "IPY_MODEL_56147d85daa441d493bd219a41f48b23",
       "style": "IPY_MODEL_1a116a1de3044b01a9b102da920b26b3",
       "value": "<p style='font-family: IBM Plex Sans, Arial, Helvetica, sans-serif; font-size: 20px; font-weight: medium;'>Circuit Properties</p>"
      }
     },
     "da7eeb086af64efdbd66b83ad25f4dc3": {
      "model_module": "@jupyter-widgets/controls",
      "model_module_version": "1.5.0",
      "model_name": "ButtonModel",
      "state": {
       "button_style": "primary",
       "description": "Clear",
       "layout": "IPY_MODEL_9a5d25a2086b4e4493893c12869006e7",
       "style": "IPY_MODEL_1c125d8ed3524fdca6e8cfdbd8506df6"
      }
     },
     "dbe0b351237342f68c0b6d9b84376c07": {
      "model_module": "@jupyter-widgets/controls",
      "model_module_version": "1.5.0",
      "model_name": "HTMLModel",
      "state": {
       "layout": "IPY_MODEL_b25e231256c14883b2b6b86061c8009f",
       "style": "IPY_MODEL_ef79f5b133e040cfb691817c16d87e61",
       "value": "<h5>Backend</h5>"
      }
     },
     "e2d2a51080b746b384168869f11eaaa3": {
      "model_module": "@jupyter-widgets/base",
      "model_module_version": "1.2.0",
      "model_name": "LayoutModel",
      "state": {
       "width": "95px"
      }
     },
     "e9e21dc82db6468289ae8f563b7cee50": {
      "model_module": "@jupyter-widgets/controls",
      "model_module_version": "1.5.0",
      "model_name": "DescriptionStyleModel",
      "state": {
       "description_width": ""
      }
     },
     "ee06e4490f504e2585998c261eef9c34": {
      "model_module": "@jupyter-widgets/base",
      "model_module_version": "1.2.0",
      "model_name": "LayoutModel",
      "state": {
       "grid_template_areas": "\n                                       \". . . . right \"\n                                        ",
       "grid_template_columns": "20% 20% 20% 20% 20%",
       "width": "100%"
      }
     },
     "ef5bc96b36e5476c980f18b140539349": {
      "model_module": "@jupyter-widgets/base",
      "model_module_version": "1.2.0",
      "model_name": "LayoutModel",
      "state": {
       "width": "145px"
      }
     },
     "ef79f5b133e040cfb691817c16d87e61": {
      "model_module": "@jupyter-widgets/controls",
      "model_module_version": "1.5.0",
      "model_name": "DescriptionStyleModel",
      "state": {
       "description_width": ""
      }
     },
     "f25ee7e86286427cb8e37c77e15eecd7": {
      "model_module": "@jupyter-widgets/base",
      "model_module_version": "1.2.0",
      "model_name": "LayoutModel",
      "state": {
       "width": "70px"
      }
     },
     "f32a615d760f4fe28b6c680ccc03a51e": {
      "model_module": "@jupyter-widgets/controls",
      "model_module_version": "1.5.0",
      "model_name": "HTMLModel",
      "state": {
       "layout": "IPY_MODEL_36f696f20e0b4186868e9822ff42d5c3",
       "style": "IPY_MODEL_78e2826f89e342818be94cb01bdfab88",
       "value": "<h5>Message</h5>"
      }
     },
     "f5697e92c421422aba14d5ba99af8ef5": {
      "model_module": "@jupyter-widgets/controls",
      "model_module_version": "1.5.0",
      "model_name": "HTMLModel",
      "state": {
       "layout": "IPY_MODEL_c20abf2ec0264bcd9add8d54a6a40601",
       "style": "IPY_MODEL_908664d7084143d7ad2cb437993479cd",
       "value": "<p style='font-family: IBM Plex Sans, Arial, Helvetica, sans-serif; font-size: 20px; font-weight: medium;'>Circuit Properties</p>"
      }
     },
     "f8b1183cc07a4d0bbe211fef8f25912b": {
      "model_module": "@jupyter-widgets/controls",
      "model_module_version": "1.5.0",
      "model_name": "GridBoxModel",
      "state": {
       "children": [
        "IPY_MODEL_da7eeb086af64efdbd66b83ad25f4dc3"
       ],
       "layout": "IPY_MODEL_d16f7aa60f3b453c83d42399b3019f16"
      }
     },
     "fd09540ca39248f18bcef526d199a12f": {
      "model_module": "@jupyter-widgets/controls",
      "model_module_version": "1.5.0",
      "model_name": "HTMLModel",
      "state": {
       "layout": "IPY_MODEL_ef5bc96b36e5476c980f18b140539349",
       "style": "IPY_MODEL_ffd3776b5c88424eb642913f287aa721",
       "value": "<h5>Backend</h5>"
      }
     },
     "fd0c68e02743486f8f65f63c776e7ae2": {
      "model_module": "@jupyter-widgets/controls",
      "model_module_version": "1.5.0",
      "model_name": "DescriptionStyleModel",
      "state": {
       "description_width": ""
      }
     },
     "ffd3776b5c88424eb642913f287aa721": {
      "model_module": "@jupyter-widgets/controls",
      "model_module_version": "1.5.0",
      "model_name": "DescriptionStyleModel",
      "state": {
       "description_width": ""
      }
     }
    },
    "version_major": 2,
    "version_minor": 0
   }
  }
 },
 "nbformat": 4,
 "nbformat_minor": 5
}
